{
  "nbformat": 4,
  "nbformat_minor": 0,
  "metadata": {
    "colab": {
      "name": "Tech Dev Guide.ipynb",
      "version": "0.3.2",
      "provenance": [],
      "include_colab_link": true
    },
    "kernelspec": {
      "name": "python3",
      "display_name": "Python 3"
    }
  },
  "cells": [
    {
      "cell_type": "markdown",
      "metadata": {
        "id": "view-in-github",
        "colab_type": "text"
      },
      "source": [
        "<a href=\"https://colab.research.google.com/github/thejakunuthuru/work-colabs/blob/master/Tech_Dev_Guide.ipynb\" target=\"_parent\"><img src=\"https://colab.research.google.com/assets/colab-badge.svg\" alt=\"Open In Colab\"/></a>"
      ]
    },
    {
      "cell_type": "markdown",
      "metadata": {
        "id": "YnpW3vf9DNIN",
        "colab_type": "text"
      },
      "source": [
        "# **Foundations of Programming**\n",
        "\n",
        "---\n",
        "\n",
        "\n",
        "## The Challenge\n",
        "Given a string S and a set of words D, find the longest word in D that is a subsequence of S.\n",
        "\n",
        "Word W is a subsequence of S if some number of characters, possibly zero, can be deleted from S to form W, without reordering the remaining characters.\n",
        "\n",
        "Note: D can appear in any format (list, hash table, prefix tree, etc.)\n",
        "\n",
        "For example, given the input of S = \"abppplee\" and D = {\"able\", \"ale\", \"apple\", \"bale\", \"kangaroo\"} the correct output would be \"apple\"\n",
        "\n",
        "The words \"able\" and \"ale\" are both subsequences of S, but they are shorter than \"apple\".\n",
        "The word \"bale\" is not a subsequence of S because even though S has all the right letters, they are not in the right order.\n",
        "The word \"kangaroo\" is the longest word in D, but it isn't a subsequence of S.\n",
        "Learning objectives\n",
        "This question gives you the chance to practice with algorithms and data structures. It’s also a good example of why careful analysis for Big-O performance is often worthwhile, as is careful exploration of common and worst-case input conditions."
      ]
    },
    {
      "cell_type": "markdown",
      "metadata": {
        "id": "lT42nJ1JcQHD",
        "colab_type": "text"
      },
      "source": [
        "###Brute Force\n",
        "\n",
        "*   Total possible substrings are $nC1+nC2 + .... nCn$ =   $2^n - 1$\n",
        "*   Validate each word in D\n",
        "\n"
      ]
    },
    {
      "cell_type": "code",
      "metadata": {
        "id": "bq3h9nLhCDAN",
        "colab_type": "code",
        "outputId": "9b138e6d-679f-45a4-8e61-04e548f8f2a0",
        "colab": {
          "base_uri": "https://localhost:8080/",
          "height": 34
        }
      },
      "source": [
        "S = \"abppplee\"\n",
        "D = [\"able\", \"ale\", \"apple\", \"bapple\", \"bale\", \"kangaroo\"]\n",
        "U = []\n",
        "def subSeqs(L, pre):\n",
        "    for i in range(len(L)):\n",
        "        e = pre + L[i]\n",
        "        U.append(e)\n",
        "        subSeqs(L[i+1:], e)\n",
        "subSeqs(S, \"\")\n",
        "res = \"\"\n",
        "for e in D:\n",
        "    if e in U and len(e)>len(res):\n",
        "        res = e\n",
        "print(S)"
      ],
      "execution_count": 0,
      "outputs": [
        {
          "output_type": "stream",
          "text": [
            "apple\n"
          ],
          "name": "stdout"
        }
      ]
    }
  ]
}